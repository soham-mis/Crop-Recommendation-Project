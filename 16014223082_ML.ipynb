{
 "cells": [
  {
   "cell_type": "code",
   "execution_count": 2,
   "id": "a885d9b0",
   "metadata": {},
   "outputs": [
    {
     "name": "stdout",
     "output_type": "stream",
     "text": [
      "Dataset loaded successfully. Here are the first 5 rows:\n",
      "    N   P   K  temperature   humidity        ph    rainfall label\n",
      "0  90  42  43    20.879744  82.002744  6.502985  202.935536  rice\n",
      "1  85  58  41    21.770462  80.319644  7.038096  226.655537  rice\n",
      "2  60  55  44    23.004459  82.320763  7.840207  263.964248  rice\n",
      "3  74  35  40    26.491096  80.158363  6.980401  242.864034  rice\n",
      "4  78  42  42    20.130175  81.604873  7.628473  262.717340  rice\n"
     ]
    }
   ],
   "source": [
    "import pandas as pd\n",
    "\n",
    "# Load your dataset from the CSV file into a DataFrame called 'df'\n",
    "df = pd.read_csv('Crop_recommendation.csv')\n",
    "\n",
    "# This line is optional, but it's a good way to check that the data loaded correctly\n",
    "print(\"Dataset loaded successfully. Here are the first 5 rows:\")\n",
    "print(df.head())"
   ]
  },
  {
   "cell_type": "code",
   "execution_count": 3,
   "id": "94fa4ff9",
   "metadata": {},
   "outputs": [
    {
     "name": "stdout",
     "output_type": "stream",
     "text": [
      "Data splitting complete.\n",
      "Number of training samples: 1540\n",
      "Number of testing samples: 660\n"
     ]
    }
   ],
   "source": [
    "from sklearn.model_selection import train_test_split\n",
    "\n",
    "# 1. Define your features (X) and the target variable (y)\n",
    "X = df.drop('label', axis=1)\n",
    "y = df['label']\n",
    "\n",
    "# 2. Split the data (70% for training, 30% for testing)\n",
    "X_train, X_test, y_train, y_test = train_test_split(X, y, test_size=0.3, random_state=42)\n",
    "\n",
    "print(\"Data splitting complete.\")\n",
    "print(\"Number of training samples:\", X_train.shape[0])\n",
    "print(\"Number of testing samples:\", X_test.shape[0])"
   ]
  },
  {
   "cell_type": "code",
   "execution_count": 4,
   "id": "20a07ffb",
   "metadata": {},
   "outputs": [
    {
     "name": "stdout",
     "output_type": "stream",
     "text": [
      "Training the Random Forest model...\n",
      "Training complete!\n"
     ]
    }
   ],
   "source": [
    "from sklearn.ensemble import RandomForestClassifier\n",
    "\n",
    "# 1. Create the Random Forest model with the same parameters as the paper\n",
    "rf_model = RandomForestClassifier(n_estimators=100, random_state=42)\n",
    "\n",
    "# 2. Train the model on your training data\n",
    "print(\"Training the Random Forest model...\")\n",
    "rf_model.fit(X_train, y_train)\n",
    "print(\"Training complete!\")"
   ]
  },
  {
   "cell_type": "code",
   "execution_count": 5,
   "id": "e699994a",
   "metadata": {},
   "outputs": [
    {
     "name": "stdout",
     "output_type": "stream",
     "text": [
      "Evaluating model on the test set...\n",
      "Accuracy on Test Set: 99.09%\n",
      "\n",
      "Performing 5-fold cross-validation...\n",
      "Mean 5-Fold Cross-Validation Accuracy: 99.45%\n"
     ]
    }
   ],
   "source": [
    "from sklearn.metrics import accuracy_score\n",
    "from sklearn.model_selection import cross_val_score\n",
    "\n",
    "# 1. Check the accuracy on the 30% test set\n",
    "print(\"Evaluating model on the test set...\")\n",
    "predictions = rf_model.predict(X_test)\n",
    "test_accuracy = accuracy_score(y_test, predictions)\n",
    "print(f\"Accuracy on Test Set: {test_accuracy * 100:.2f}%\")\n",
    "\n",
    "# 2. Perform 5-fold cross-validation (as done in the paper)\n",
    "print(\"\\nPerforming 5-fold cross-validation...\")\n",
    "# Note: We use the full dataset (X, y) for cross-validation\n",
    "validation_scores = cross_val_score(rf_model, X, y, cv=5)\n",
    "mean_validation_accuracy = validation_scores.mean()\n",
    "print(f\"Mean 5-Fold Cross-Validation Accuracy: {mean_validation_accuracy * 100:.2f}%\")"
   ]
  },
  {
   "cell_type": "code",
   "execution_count": 6,
   "id": "b7db7d85",
   "metadata": {},
   "outputs": [
    {
     "name": "stdout",
     "output_type": "stream",
     "text": [
      "Training the Naive Bayes model...\n",
      "Training complete!\n",
      "\n",
      "--- Naive Bayes Results ---\n",
      "Accuracy on Test Set: 99.39%\n",
      "Mean 5-Fold Cross-Validation Accuracy: 99.50%\n"
     ]
    }
   ],
   "source": [
    "from sklearn.naive_bayes import GaussianNB\n",
    "from sklearn.metrics import accuracy_score\n",
    "from sklearn.model_selection import cross_val_score\n",
    "\n",
    "# 1. Define the Model\n",
    "nb_model = GaussianNB()\n",
    "\n",
    "# 2. Train the Model\n",
    "print(\"Training the Naive Bayes model...\")\n",
    "nb_model.fit(X_train, y_train)\n",
    "print(\"Training complete!\")\n",
    "\n",
    "# 3. Evaluate the Model\n",
    "print(\"\\n--- Naive Bayes Results ---\")\n",
    "# Check accuracy on the test set\n",
    "nb_predictions = nb_model.predict(X_test)\n",
    "nb_test_accuracy = accuracy_score(y_test, nb_predictions)\n",
    "print(f\"Accuracy on Test Set: {nb_test_accuracy * 100:.2f}%\")\n",
    "\n",
    "# Perform 5-fold cross-validation\n",
    "nb_validation_scores = cross_val_score(nb_model, X, y, cv=5)\n",
    "nb_mean_validation_accuracy = nb_validation_scores.mean()\n",
    "print(f\"Mean 5-Fold Cross-Validation Accuracy: {nb_mean_validation_accuracy * 100:.2f}%\")"
   ]
  },
  {
   "cell_type": "code",
   "execution_count": 7,
   "id": "ac6975ff",
   "metadata": {},
   "outputs": [
    {
     "name": "stdout",
     "output_type": "stream",
     "text": [
      "Data prepared for Neural Network.\n",
      "Shape of y_train_nn: (1540, 22)\n"
     ]
    }
   ],
   "source": [
    "import tensorflow as tf\n",
    "from sklearn.model_selection import train_test_split\n",
    "\n",
    "# Convert labels to one-hot encoded format\n",
    "y_encoded = pd.get_dummies(y)\n",
    "\n",
    "# We need to re-split the data using the new encoded labels\n",
    "X_train_nn, X_test_nn, y_train_nn, y_test_nn = train_test_split(X, y_encoded, test_size=0.3, random_state=42)\n",
    "\n",
    "print(\"Data prepared for Neural Network.\")\n",
    "print(\"Shape of y_train_nn:\", y_train_nn.shape) # Should be (samples, 22)"
   ]
  },
  {
   "cell_type": "code",
   "execution_count": 8,
   "id": "0f49b342",
   "metadata": {},
   "outputs": [
    {
     "name": "stderr",
     "output_type": "stream",
     "text": [
      "c:\\Users\\mishr\\AppData\\Local\\Programs\\Python\\Python313\\Lib\\site-packages\\keras\\src\\layers\\core\\dense.py:92: UserWarning: Do not pass an `input_shape`/`input_dim` argument to a layer. When using Sequential models, prefer using an `Input(shape)` object as the first layer in the model instead.\n",
      "  super().__init__(activity_regularizer=activity_regularizer, **kwargs)\n"
     ]
    },
    {
     "name": "stdout",
     "output_type": "stream",
     "text": [
      "\n",
      "Training the Neural Network model...\n",
      "Training complete!\n",
      "\n",
      "--- Neural Network Results ---\n",
      "Final Validation Accuracy during training: 92.86%\n",
      "Accuracy on Test Set: 94.24%\n"
     ]
    }
   ],
   "source": [
    "from tensorflow.keras.models import Sequential\n",
    "from tensorflow.keras.layers import Dense\n",
    "\n",
    "# 1. Define the Model Architecture (as per the paper)\n",
    "nn_model = Sequential([\n",
    "    # Input Layer (implicitly defined by input_shape in the first layer)\n",
    "    # Hidden Layer 1: 30 neurons, 'relu' activation\n",
    "    Dense(30, activation='relu', input_shape=(X_train_nn.shape[1],)),\n",
    "    # Hidden Layer 2: 20 neurons, 'relu' activation\n",
    "    Dense(20, activation='relu'),\n",
    "    # Hidden Layer 3: 10 neurons, 'relu' activation\n",
    "    Dense(10, activation='relu'),\n",
    "    # Output Layer: 22 neurons (for 22 crops), 'softmax' activation\n",
    "    Dense(22, activation='softmax')\n",
    "])\n",
    "\n",
    "# Compile the model\n",
    "nn_model.compile(optimizer='adam', loss='categorical_crossentropy', metrics=['accuracy'])\n",
    "\n",
    "# 2. Train the Model\n",
    "print(\"\\nTraining the Neural Network model...\")\n",
    "# Training for 100 epochs is a good start\n",
    "history = nn_model.fit(X_train_nn, y_train_nn, epochs=100, batch_size=32, validation_split=0.2, verbose=0)\n",
    "print(\"Training complete!\")\n",
    "\n",
    "# 3. Evaluate the Model\n",
    "print(\"\\n--- Neural Network Results ---\")\n",
    "# The .fit method automatically gives us validation accuracy. Let's get the final one.\n",
    "final_val_accuracy = history.history['val_accuracy'][-1]\n",
    "print(f\"Final Validation Accuracy during training: {final_val_accuracy * 100:.2f}%\")\n",
    "\n",
    "# You can also evaluate on the separate test set\n",
    "test_loss, test_accuracy = nn_model.evaluate(X_test_nn, y_test_nn, verbose=0)\n",
    "print(f\"Accuracy on Test Set: {test_accuracy * 100:.2f}%\")"
   ]
  },
  {
   "cell_type": "code",
   "execution_count": null,
   "id": "29b965db",
   "metadata": {},
   "outputs": [],
   "source": [
    "# Project Results: Comparison with the Source Paper\n",
    "\n",
    "This table compares the 5-fold cross-validation accuracy of the models I implemented against the results reported in the paper by Dahiphale et al. (2025).\n",
    "\n",
    "| Model Name       | Paper's Validation Accuracy | My Validation Accuracy |\n",
    "|------------------|-----------------------------|------------------------|\n",
    "| Random Forest    | [cite_start]99.5% [cite: 2532]          | Your RF Score 99.45%  |\n",
    "| Naive Bayes      | [cite_start]99.5% [cite: 2532]          | Your NB Score 99.50%  |\n",
    "| Neural Network   | [cite_start]97.73% [cite: 2532]         | Your NN Score 92.86%  |\n",
    "\n",
    "The reproduction of the research paper was highly successful. The performance of the Random Forest (99.45%) and Naive Bayes (99.50%) models were nearly identical to the paper's reported accuracy of 99.5%, which confirms their effectiveness for this dataset.\n",
    "My Neural Network model achieved a final validation accuracy of 92.86%. While this is a strong result, it is slightly lower than the 97.73% reported in the paper. This difference is likely because the paper mentions training for up to 1,000 epochs for optimal performance, whereas my model was trained for 100 epochs. Increasing the training epochs would likely close this gap.\n",
    "Overall, the project successfully validates the findings of the original paper."
   ]
  }
 ],
 "metadata": {
  "kernelspec": {
   "display_name": "Python 3",
   "language": "python",
   "name": "python3"
  },
  "language_info": {
   "codemirror_mode": {
    "name": "ipython",
    "version": 3
   },
   "file_extension": ".py",
   "mimetype": "text/x-python",
   "name": "python",
   "nbconvert_exporter": "python",
   "pygments_lexer": "ipython3",
   "version": "3.13.0"
  }
 },
 "nbformat": 4,
 "nbformat_minor": 5
}
